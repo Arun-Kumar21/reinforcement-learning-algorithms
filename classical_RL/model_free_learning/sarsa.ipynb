{
 "cells": [
  {
   "cell_type": "markdown",
   "id": "94dc7e17-fd7d-40a0-bae6-c737d5f4a3cf",
   "metadata": {},
   "source": [
    "### On-Policy TD Learning: SARSA\n",
    "\n",
    "**Key Formula**: $Q(s,a) \\leftarrow Q(s,a) + \\alpha[r + \\gamma Q(s',a') - Q(s,a)]$\n",
    "\n",
    "**SARSA** (State-Action-Reward-State-Action) is a temporal difference learning algorithm that learns Q-values while following the same policy it's improving."
   ]
  },
  {
   "cell_type": "code",
   "execution_count": 1,
   "id": "a3d60431-20b6-443b-a0a1-b20787f71424",
   "metadata": {},
   "outputs": [],
   "source": [
    "import numpy as np\n",
    "import gymnasium as gym"
   ]
  },
  {
   "cell_type": "markdown",
   "id": "f96c4a9c",
   "metadata": {},
   "source": [
    "#### Epsilon-Greedy Action Selection\n",
    "\n",
    "Implement $\\epsilon$-greedy policy: explore with probability $\\epsilon$, exploit (choose best action) with probability $1-\\epsilon$."
   ]
  },
  {
   "cell_type": "code",
   "execution_count": 2,
   "id": "b02acc46-03a0-4b30-84c4-0b5780edba02",
   "metadata": {},
   "outputs": [],
   "source": [
    "def epsilon_greedy(Q, state, epsilon, env):\n",
    "\n",
    "    # Exploration\n",
    "    if np.random.rand() < epsilon:\n",
    "        return env.action_space.sample()\n",
    "\n",
    "    # Expliotaton\n",
    "    else:\n",
    "        return np.argmax(Q[state])"
   ]
  },
  {
   "cell_type": "markdown",
   "id": "4cb554b7",
   "metadata": {},
   "source": [
    "#### SARSA Algorithm\n",
    "\n",
    "Implement on-policy SARSA: select action using current policy, update Q-values using the same policy's next action."
   ]
  },
  {
   "cell_type": "code",
   "execution_count": 3,
   "id": "8e975cc6-b97b-4038-a27d-aa979e943779",
   "metadata": {},
   "outputs": [],
   "source": [
    "def sarsa(env,\n",
    "         num_episodes=10000,\n",
    "         alpha=0.1,\n",
    "         gamma=0.99,\n",
    "         epsilon=0.1):\n",
    "\n",
    "    Q = np.zeros((env.observation_space.n, env.action_space.n))\n",
    "\n",
    "    for ep in range(num_episodes):\n",
    "        state, _ = env.reset()\n",
    "        action = epsilon_greedy(Q, state, epsilon, env)\n",
    "\n",
    "        done=False\n",
    "        while not done:\n",
    "            next_state, reward, done, _, _ = env.step(action)\n",
    "\n",
    "            next_action = epsilon_greedy(Q, next_state, epsilon, env)\n",
    "\n",
    "            Q[state, action] = Q[state, action] + alpha * (reward + gamma * Q[next_state, next_action]- Q[state, action])\n",
    "\n",
    "            state, action = next_state, next_action\n",
    "\n",
    "    return Q"
   ]
  },
  {
   "cell_type": "markdown",
   "id": "c08f65f4",
   "metadata": {},
   "source": [
    "#### Train SARSA Agent\n",
    "\n",
    "Run SARSA on stochastic FrozenLake environment and extract learned policy from Q-values."
   ]
  },
  {
   "cell_type": "code",
   "execution_count": 4,
   "id": "88423cbd-df06-43c7-b8f0-d3462cfb36ad",
   "metadata": {},
   "outputs": [
    {
     "name": "stdout",
     "output_type": "stream",
     "text": [
      "[0 3 0 0 0 0 0 0 3 1 0 0 0 2 1 0]\n"
     ]
    }
   ],
   "source": [
    "env = gym.make(\"FrozenLake-v1\", is_slippery=True)\n",
    "Q_sarsa = sarsa(env)\n",
    "\n",
    "policy = np.argmax(Q_sarsa, axis=-1)\n",
    "print(policy)"
   ]
  },
  {
   "cell_type": "markdown",
   "id": "f232e62c",
   "metadata": {},
   "source": [
    "#### Evaluate Learned Policy\n",
    "\n",
    "Test the learned policy's performance by measuring success rate over multiple episodes."
   ]
  },
  {
   "cell_type": "code",
   "execution_count": 5,
   "id": "00af560f-07f7-4894-9ee8-d8d9e7b5a260",
   "metadata": {},
   "outputs": [
    {
     "name": "stdout",
     "output_type": "stream",
     "text": [
      "Policy Success Rate: 79.80%\n"
     ]
    }
   ],
   "source": [
    "def test_policy(policy, env, num_episodes=500):\n",
    "    success_count = 0\n",
    "\n",
    "    for _ in range(num_episodes):\n",
    "        state, _ = env.reset()\n",
    "        done = False\n",
    "\n",
    "        while not done:\n",
    "            action = policy[state]\n",
    "            state, reward, done, _, _ = env.step(action)\n",
    "\n",
    "            if done and reward == 1.0:  # Reached the goal\n",
    "                success_count += 1\n",
    "\n",
    "    success_rate = success_count / num_episodes\n",
    "    print(f\"Policy Success Rate: {success_rate * 100:.2f}%\")\n",
    "\n",
    "test_policy(policy, env)"
   ]
  }
 ],
 "metadata": {
  "kernelspec": {
   "display_name": "global_env",
   "language": "python",
   "name": "python3"
  },
  "language_info": {
   "codemirror_mode": {
    "name": "ipython",
    "version": 3
   },
   "file_extension": ".py",
   "mimetype": "text/x-python",
   "name": "python",
   "nbconvert_exporter": "python",
   "pygments_lexer": "ipython3",
   "version": "3.12.3"
  }
 },
 "nbformat": 4,
 "nbformat_minor": 5
}

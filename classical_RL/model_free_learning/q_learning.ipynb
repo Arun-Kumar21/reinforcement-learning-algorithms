{
 "cells": [
  {
   "cell_type": "markdown",
   "id": "b2786d28-9fb4-4ad0-a008-e3c9a2385b46",
   "metadata": {},
   "source": [
    "### Off-Policy TD Learning: Q-Learning\n",
    "\n",
    "**Key Difference from SARSA**: Uses $\\max Q(s',a')$ instead of $Q(s',a')$ from current policy.\n",
    "\n",
    "**Q-Learning** is an off-policy temporal difference algorithm that learns the optimal action-value function regardless of the policy being followed.\n",
    "\n",
    "**Key Formula**: $Q(s,a) \\leftarrow Q(s,a) + \\alpha[r + \\gamma \\max_{a'} Q(s',a') - Q(s,a)]$"
   ]
  },
  {
   "cell_type": "code",
   "execution_count": 1,
   "id": "c2434dd3-d498-4816-972b-2f03c0713715",
   "metadata": {},
   "outputs": [],
   "source": [
    "import numpy as np\n",
    "import gymnasium as gym"
   ]
  },
  {
   "cell_type": "markdown",
   "id": "4deb6a30",
   "metadata": {},
   "source": [
    "#### Epsilon-Greedy Action Selection\n",
    "\n",
    "Same $\\epsilon$-greedy policy as SARSA: balance exploration and exploitation during learning."
   ]
  },
  {
   "cell_type": "code",
   "execution_count": 2,
   "id": "9195ee44-c497-4656-b7f7-44b44a222baf",
   "metadata": {},
   "outputs": [],
   "source": [
    "def epsilon_greedy(Q, state, epsilon, env):\n",
    "    if np.random.rand() < epsilon:\n",
    "        return env.action_space.sample() \n",
    "    else:\n",
    "        return np.argmax(Q[state])"
   ]
  },
  {
   "cell_type": "markdown",
   "id": "b7d5c893",
   "metadata": {},
   "source": [
    "#### Q-Learning Algorithm\n",
    "\n",
    "**Off-policy learning**: Updates Q-values using the greedy action (max) regardless of the action actually taken by the behavior policy."
   ]
  },
  {
   "cell_type": "code",
   "execution_count": 3,
   "id": "6b254621-4b77-4478-b675-ea9d04190d4a",
   "metadata": {},
   "outputs": [],
   "source": [
    "def q_learning(env, \n",
    "               num_episodes=25000, \n",
    "               alpha=0.1, \n",
    "               gamma=0.99, \n",
    "               epsilon=0.1):\n",
    "\n",
    "    Q = np.zeros((env.observation_space.n, env.action_space.n))\n",
    "\n",
    "    for episode in range(num_episodes):\n",
    "        \n",
    "        state, _ = env.reset()\n",
    "\n",
    "        action = epsilon_greedy(Q, state, epsilon, env)\n",
    "            \n",
    "        done = False\n",
    "        while not done:\n",
    "\n",
    "            next_state, reward, done, _, _ = env.step(action)\n",
    "\n",
    "            next_action = epsilon_greedy(Q, next_state, epsilon, env)\n",
    "\n",
    "            # Future action according to greedy policy (max)\n",
    "            Q[state, action] = Q[state, action] + alpha * (reward + \\\n",
    "                                   gamma * np.max(Q[next_state]) - Q[state, action])\n",
    "            \n",
    "            state, action = next_state, next_action\n",
    "\n",
    "    return Q"
   ]
  },
  {
   "cell_type": "markdown",
   "id": "05b76750",
   "metadata": {},
   "source": [
    "#### Train Q-Learning Agent\n",
    "\n",
    "Run Q-learning on stochastic FrozenLake and extract the learned optimal policy."
   ]
  },
  {
   "cell_type": "code",
   "execution_count": 4,
   "id": "c0b11b08-0f56-4b5a-a3db-ee969a4bab8b",
   "metadata": {},
   "outputs": [
    {
     "name": "stdout",
     "output_type": "stream",
     "text": [
      "[0 3 3 3 0 0 2 0 3 1 0 0 0 2 1 0]\n"
     ]
    }
   ],
   "source": [
    "env = gym.make(\"FrozenLake-v1\", is_slippery=True)\n",
    "Q_qlearning = q_learning(env)\n",
    "\n",
    "policy = np.argmax(Q_qlearning, axis=-1)\n",
    "print(policy)"
   ]
  },
  {
   "cell_type": "markdown",
   "id": "23f1fd0f",
   "metadata": {},
   "source": [
    "#### Evaluate Learned Policy\n",
    "\n",
    "Test the Q-learning derived policy's performance and compare with SARSA results."
   ]
  },
  {
   "cell_type": "code",
   "execution_count": 5,
   "id": "539a1e5c-659f-4262-9b64-8f40ed804435",
   "metadata": {},
   "outputs": [
    {
     "name": "stdout",
     "output_type": "stream",
     "text": [
      "Policy Success Rate: 81.20%\n"
     ]
    }
   ],
   "source": [
    "def test_policy(policy, env, num_episodes=500):\n",
    "    success_count = 0\n",
    "\n",
    "    for _ in range(num_episodes):\n",
    "        state, _ = env.reset()\n",
    "        done = False\n",
    "\n",
    "        while not done:\n",
    "            action = policy[state]\n",
    "            state, reward, done, _, _ = env.step(action)\n",
    "\n",
    "            if done and reward == 1.0:  # Reached the goal\n",
    "                success_count += 1\n",
    "\n",
    "    success_rate = success_count / num_episodes\n",
    "    print(f\"Policy Success Rate: {success_rate * 100:.2f}%\")\n",
    "\n",
    "test_policy(policy, env)"
   ]
  }
 ],
 "metadata": {
  "kernelspec": {
   "display_name": "global_env",
   "language": "python",
   "name": "python3"
  },
  "language_info": {
   "codemirror_mode": {
    "name": "ipython",
    "version": 3
   },
   "file_extension": ".py",
   "mimetype": "text/x-python",
   "name": "python",
   "nbconvert_exporter": "python",
   "pygments_lexer": "ipython3",
   "version": "3.12.3"
  }
 },
 "nbformat": 4,
 "nbformat_minor": 5
}

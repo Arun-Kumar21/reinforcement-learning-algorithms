{
 "cells": [
  {
   "cell_type": "markdown",
   "id": "959fe9b7-cd32-4cb7-a6fd-4a02a40136d5",
   "metadata": {},
   "source": [
    "### Policy Iteration for Stochastic Environments\n",
    "\n",
    "#### Introduction to Stochastic MDPs\n",
    "\n",
    "In **stochastic environments**, the outcome of taking an action is not deterministic. Unlike deterministic MDPs where $P(s'|s,a) \\in \\{0,1\\}$, stochastic MDPs have probabilistic transitions where:\n",
    "\n",
    "$$\\sum_{s' \\in S} P(s'|s,a) = 1 \\quad \\forall s \\in S, a \\in A$$\n",
    "\n",
    "This introduces **uncertainty** into the decision-making process, making optimal policy computation more challenging but also more realistic for many real-world scenarios.\n",
    "\n",
    "#### Stochastic FrozenLake Environment\n",
    "\n",
    "In the stochastic FrozenLake environment (`is_slippery=True`):\n",
    "- The agent **intends** to move in a chosen direction\n",
    "- Due to the slippery ice, the agent may **slip** and move in unintended directions\n",
    "- Each action can result in **multiple possible outcomes** with different probabilities\n",
    "\n",
    "#### Mathematical Challenges\n",
    "\n",
    "Stochastic environments require us to:\n",
    "1. **Account for uncertainty** in transition probabilities during policy evaluation\n",
    "2. **Compute expected values** over all possible next states  \n",
    "3. **Handle multiple possible outcomes** for each action during policy improvement"
   ]
  },
  {
   "cell_type": "code",
   "execution_count": 1,
   "id": "acf3d6ce-56bc-4c01-914b-19a8fffe753e",
   "metadata": {},
   "outputs": [],
   "source": [
    "import gymnasium as gym\n",
    "import matplotlib.pyplot as plt\n",
    "from IPython.display import clear_output\n",
    "import numpy as np"
   ]
  },
  {
   "cell_type": "code",
   "execution_count": 2,
   "id": "a26768a7",
   "metadata": {},
   "outputs": [],
   "source": [
    "action_dict = {0: \"Left\", 1: \"Down\", 2: \"Right\", 3: \"Up\"}"
   ]
  },
  {
   "cell_type": "code",
   "execution_count": 3,
   "id": "bdcaf7c9-02a3-48fb-97c4-c74adc9a05ba",
   "metadata": {},
   "outputs": [],
   "source": [
    "def print_policy(policy, grid=(4, 4)):\n",
    "    \n",
    "    policy_map = np.empty(grid).astype(str)\n",
    "\n",
    "    for r in range(grid[0]):\n",
    "        for c in range(grid[1]):\n",
    "            index =  r * grid[0] +  c\n",
    "                \n",
    "            selected_action = action_dict[policy[index]]\n",
    "            selected_action = selected_action[0]\n",
    "\n",
    "            policy_map[r, c] = selected_action\n",
    "\n",
    "\n",
    "    print(\"Policy\")\n",
    "    print(policy_map)"
   ]
  },
  {
   "cell_type": "markdown",
   "id": "7a08dcd3-0633-4cb0-ab6b-39e4171a643c",
   "metadata": {},
   "source": [
    "#### Stochastic Policy Evaluation\n",
    "\n",
    "In stochastic environments, **policy evaluation** must account for the probabilistic nature of state transitions. Unlike deterministic environments where each action leads to exactly one next state, here we must compute **expected values** over all possible outcomes.\n",
    "\n",
    "##### Mathematical Formulation\n",
    "\n",
    "For a deterministic policy $\\pi(s)$ in a stochastic environment, the Bellman equation becomes:\n",
    "\n",
    "$$V^\\pi(s) = \\sum_{s'} P(s'|s,\\pi(s))[R(s,\\pi(s),s') + \\gamma V^\\pi(s')]$$\n",
    "\n",
    "Since multiple next states $s'$ are possible with different probabilities, we must:\n",
    "\n",
    "1. **Identify all possible transitions**: For action $a = \\pi(s)$, find all $(s', p, r)$ tuples\n",
    "2. **Compute weighted sum**: Sum over all possible outcomes weighted by their probabilities\n",
    "3. **Apply Bellman operator**: $V_{k+1}^\\pi(s) = \\sum_{s'} P(s'|s,\\pi(s))[R + \\gamma V_k^\\pi(s')]$\n",
    "\n",
    "##### Key Differences from Deterministic Case\n",
    "\n",
    "- **Multiple outcomes per action**: Each action can lead to several possible next states\n",
    "- **Probability weighting**: Must multiply each outcome by its transition probability\n",
    "- **Expected value computation**: The value function represents expected cumulative reward\n",
    "\n",
    "The implementation iterates over all possible transitions for the policy-selected action and computes the expected value."
   ]
  },
  {
   "cell_type": "code",
   "execution_count": 4,
   "id": "cc77ea51-1d33-4fd5-b4b8-bae19320f99c",
   "metadata": {},
   "outputs": [],
   "source": [
    "def policy_evaluation(policy, gamma=0.99, iterations=1000, epsilon=1e-10):\n",
    "\n",
    "    V = np.zeros(shape=env.observation_space.n)\n",
    "\n",
    "\n",
    "    for _ in range(iterations):\n",
    "        V_k = np.copy(V)\n",
    "\n",
    "        for s in range(env.observation_space.n):\n",
    "\n",
    "            # Action given by policy, But can't take directly as of stochastic env\n",
    "            wanted_action = policy[s]\n",
    "            possible_actions = env.unwrapped.P[s][wanted_action]\n",
    "\n",
    "            V_s = 0\n",
    "\n",
    "            for prob, s_next, reward, terminal in possible_actions:\n",
    "                \n",
    "                V_s += prob * (reward + gamma * V_k[s_next])\n",
    "\n",
    "            V[s] = V_s\n",
    "\n",
    "        if np.max(np.abs(V - V_k)) < epsilon:\n",
    "            break\n",
    "\n",
    "    return V"
   ]
  },
  {
   "cell_type": "markdown",
   "id": "a24ad89d-8e6e-4023-b1e6-17a88df593bc",
   "metadata": {},
   "source": [
    "#### Stochastic Policy Improvement\n",
    "\n",
    "**Policy improvement** in stochastic environments requires computing **action-value functions** (Q-values) for all possible actions, accounting for the probabilistic transitions.\n",
    "\n",
    "##### Mathematical Foundation\n",
    "\n",
    "Given the value function $V^\\pi(s)$ from policy evaluation, we compute Q-values for each action:\n",
    "\n",
    "$$Q^\\pi(s,a) = \\sum_{s'} P(s'|s,a)[R(s,a,s') + \\gamma V^\\pi(s')]$$\n",
    "\n",
    "The **improved policy** is then:\n",
    "$$\\pi'(s) = \\arg\\max_{a \\in A} Q^\\pi(s,a)$$\n",
    "\n",
    "##### Stochastic Q-Value Computation\n",
    "\n",
    "For each state $s$ and action $a$:\n",
    "\n",
    "1. **Enumerate all possible transitions**: Find all $(prob, s', reward, done)$ tuples for $(s,a)$\n",
    "2. **Compute expected Q-value**: $Q(s,a) = \\sum_{i} prob_i \\cdot (reward_i + \\gamma \\cdot V(s'_i))$\n",
    "3. **Select greedy action**: Choose action with maximum Q-value\n",
    "\n",
    "##### Handling Uncertainty\n",
    "\n",
    "Unlike deterministic environments, each action's value depends on:\n",
    "- **All possible next states** it can lead to\n",
    "- **Transition probabilities** to each next state  \n",
    "- **Rewards** associated with each transition\n",
    "\n",
    "The algorithm must evaluate the **expected utility** of each action considering all possible outcomes, making the policy robust to environmental uncertainty."
   ]
  },
  {
   "cell_type": "code",
   "execution_count": 5,
   "id": "b436a000-6718-4687-a847-f16b9ec7253d",
   "metadata": {},
   "outputs": [],
   "source": [
    "def policy_improvement(values, gamma=0.99):\n",
    "    new_policy = np.zeros(env.observation_space.n)\n",
    "\n",
    "\n",
    "    for s in range(env.observation_space.n):\n",
    "\n",
    "        Q_s = []\n",
    "\n",
    "        for wanted_action in range(env.action_space.n):\n",
    "            possible_actions = env.unwrapped.P[s][wanted_action]\n",
    "\n",
    "            Q_sa = 0\n",
    "\n",
    "            for prob, s_next, reward, terminal in possible_actions:\n",
    "                Q_sa += prob * (reward + gamma * values[s_next])\n",
    "\n",
    "            Q_s.append(Q_sa)\n",
    "\n",
    "        best_action = np.argmax(Q_s)\n",
    "\n",
    "\n",
    "        new_policy[s] = best_action\n",
    "\n",
    "\n",
    "    return new_policy"
   ]
  },
  {
   "cell_type": "markdown",
   "id": "d5f16359-f2fd-49d5-945f-a57283ccde6f",
   "metadata": {},
   "source": [
    "#### Complete Stochastic Policy Iteration\n",
    "\n",
    "The **complete policy iteration algorithm** for stochastic environments follows the same two-step process as deterministic environments, but with modified computations to handle probabilistic transitions.\n",
    "\n",
    "##### Algorithm Steps\n",
    "\n",
    "1. **Initialize**: Start with arbitrary policy $\\pi_0$\n",
    "2. **Repeat until convergence**:\n",
    "   - **Stochastic Policy Evaluation**: Compute $V^{\\pi_k}$ using expected values over all possible transitions\n",
    "   - **Stochastic Policy Improvement**: Update $\\pi_{k+1}$ by maximizing expected Q-values\n",
    "3. **Convergence**: Stop when $\\pi_{k+1} = \\pi_k$\n",
    "\n",
    "##### Key Adaptations for Stochastic Environments\n",
    "\n",
    "**Policy Evaluation Adaptation**:\n",
    "- Must iterate over **all possible outcomes** for each policy action\n",
    "- Compute **probability-weighted** value updates\n",
    "- Handle **multiple transition probabilities** per action\n",
    "\n",
    "**Policy Improvement Adaptation**:\n",
    "- Calculate **expected Q-values** for all actions considering uncertainty\n",
    "- Select action that maximizes **expected utility**\n",
    "- Account for **risk** inherent in stochastic transitions\n",
    "\n",
    "##### Convergence Properties\n",
    "\n",
    "- **Guaranteed convergence** to optimal policy $\\pi^*$ (same as deterministic case)\n",
    "- **Finite convergence** in finite state and action spaces\n",
    "- **Robustness** to environmental uncertainty through expected value computations\n",
    "\n",
    "The algorithm produces policies that are **optimal under uncertainty**, maximizing expected cumulative reward despite stochastic transitions."
   ]
  },
  {
   "cell_type": "code",
   "execution_count": 6,
   "id": "027b2e33-fd5e-4a8b-a297-f460abfd9902",
   "metadata": {},
   "outputs": [],
   "source": [
    "def policy_iteration(env, num_iterations=1000, gamma=0.99):\n",
    "\n",
    "    policy = np.random.randint(low=0, high=env.action_space.n, size=(env.observation_space.n))\n",
    "\n",
    "    for _ in range(num_iterations):\n",
    "\n",
    "        values = policy_evaluation(policy, gamma=gamma, iterations=num_iterations)\n",
    "        update_policy = policy_improvement(values, gamma=gamma)\n",
    "\n",
    "        # Convergence\n",
    "        if np.all(policy == update_policy):\n",
    "            break\n",
    "\n",
    "        policy = update_policy\n",
    "\n",
    "    return policy"
   ]
  },
  {
   "cell_type": "markdown",
   "id": "a1d7caf4-2f01-4471-b7b3-43d9291d0710",
   "metadata": {},
   "source": [
    "#### Testing the Optimal Policy in Stochastic Environment\n",
    "\n",
    "Now we apply our policy iteration algorithm to the **stochastic FrozenLake** environment and evaluate its performance.\n",
    "\n",
    "##### Environment Setup\n",
    "- **Stochastic transitions**: `is_slippery=True` introduces randomness\n",
    "- **Uncertainty**: Agent may slip and move in unintended directions\n",
    "- **Challenge**: Policy must be robust to unpredictable outcomes\n",
    "\n",
    "##### Performance Evaluation\n",
    "Since the environment is stochastic, we cannot expect 100% success rate even with the optimal policy. Instead, we:\n",
    "\n",
    "1. **Run multiple episodes** to estimate average performance\n",
    "2. **Measure success rate** over many trials\n",
    "3. **Account for inherent randomness** in environment dynamics\n",
    "\n",
    "##### Expected Results\n",
    "The optimal policy should:\n",
    "- **Maximize expected reward** despite uncertainty\n",
    "- **Achieve reasonable success rate** given environmental constraints\n",
    "- **Balance risk and reward** in action selection\n",
    "\n",
    "Let's compute the optimal policy and evaluate its performance:"
   ]
  },
  {
   "cell_type": "code",
   "execution_count": 7,
   "id": "a52bb277-af4f-468b-9eff-77c55ef33cc0",
   "metadata": {},
   "outputs": [],
   "source": [
    "env = gym.make('FrozenLake-v1', map_name='4x4', render_mode='rgb_array', is_slippery=True)\n",
    "\n",
    "learned_policy = policy_iteration(env, gamma=0.99)"
   ]
  },
  {
   "cell_type": "markdown",
   "id": "9e902160",
   "metadata": {},
   "source": [
    "##### Performance Analysis\n",
    "\n",
    "Due to the stochastic nature of the environment, we need to evaluate policy performance through **statistical analysis** rather than single-episode success. The optimal policy maximizes **expected** success rate, not guaranteed success."
   ]
  },
  {
   "cell_type": "code",
   "execution_count": 8,
   "id": "beb8c27b-51f9-444f-871d-505ec94d887d",
   "metadata": {},
   "outputs": [
    {
     "name": "stdout",
     "output_type": "stream",
     "text": [
      "Successful game ratio: 0.827\n"
     ]
    }
   ],
   "source": [
    "num_games=1000\n",
    "max_steps=500\n",
    "\n",
    "game_success=0\n",
    "\n",
    "for _ in range(num_games):\n",
    "    observation, _ = env.reset()\n",
    "\n",
    "    for _ in range(max_steps):\n",
    "\n",
    "        action = int(learned_policy[observation])\n",
    "\n",
    "        observation, reward, done, _, _ = env.step(action)\n",
    "\n",
    "        if done:\n",
    "            if reward > 0:\n",
    "                game_success += 1\n",
    "            break\n",
    "\n",
    "successful_game_ratio = game_success / num_games\n",
    "print(f\"Successful game ratio: {successful_game_ratio}\")"
   ]
  },
  {
   "cell_type": "markdown",
   "id": "ae158d62-d7a7-41ac-8d55-96cc62919068",
   "metadata": {},
   "source": [
    "#### Discount Factor ($\\gamma$) Analysis\n",
    "\n",
    "The **discount factor** $\\gamma$ plays a crucial role in reinforcement learning by determining how much the agent values **future rewards** relative to **immediate rewards**.\n",
    "\n",
    "##### Mathematical Impact of $\\gamma$\n",
    "\n",
    "$$V^\\pi(s) = \\mathbb{E}_\\pi\\left[\\sum_{t=0}^{\\infty} \\gamma^t R_{t+1} | S_0 = s\\right]$$\n",
    "\n",
    "- **$\\gamma = 0$**: Agent only cares about immediate rewards (myopic behavior)\n",
    "- **$\\gamma = 1$**: All future rewards are equally important (far-sighted behavior)  \n",
    "- **$0 < \\gamma < 1$**: Exponential decay of future reward importance\n",
    "\n",
    "##### Expected Effects in Stochastic FrozenLake\n",
    "\n",
    "- **Low $\\gamma$**: May lead to risky strategies since future consequences are discounted\n",
    "- **High $\\gamma$**: More conservative policies that consider long-term outcomes\n",
    "- **Optimal $\\gamma$**: Balances immediate and future rewards for best performance\n",
    "\n",
    "Let's analyze how different discount factors affect policy performance in our stochastic environment:"
   ]
  },
  {
   "cell_type": "code",
   "execution_count": 9,
   "id": "dd13e4c3-94bc-4eba-a6dd-43ced800d7e4",
   "metadata": {},
   "outputs": [
    {
     "name": "stdout",
     "output_type": "stream",
     "text": [
      "Training policies for different discount factors...\n",
      "==================================================\n"
     ]
    }
   ],
   "source": [
    "gamma_values = [0.1, 0.5, 0.9, 0.99]\n",
    "gamma_names = [\"γ=0.1 (Short-term)\", \"γ=0.5 (Balanced)\", \"γ=0.9 (Long-term)\", \"γ=0.99 (Far-sighted)\"]\n",
    "\n",
    "print(\"Training policies for different discount factors...\")\n",
    "print(\"=\" * 50)"
   ]
  },
  {
   "cell_type": "code",
   "execution_count": 10,
   "id": "699ef540-2dfa-4909-93fd-27e039d2a7f2",
   "metadata": {},
   "outputs": [
    {
     "name": "stdout",
     "output_type": "stream",
     "text": [
      "Training policy for γ=0.1 (Short-term)...\n",
      "Success rate: 0.441\n",
      "Training policy for γ=0.5 (Balanced)...\n",
      "Success rate: 0.457\n",
      "Training policy for γ=0.9 (Long-term)...\n",
      "Success rate: 0.766\n",
      "Training policy for γ=0.99 (Far-sighted)...\n",
      "Success rate: 0.815\n"
     ]
    }
   ],
   "source": [
    "gamma_success_rates = []\n",
    "gamma_policies = []\n",
    "\n",
    "for i, gamma in enumerate(gamma_values):\n",
    "    print(f\"Training policy for {gamma_names[i]}...\")\n",
    "    \n",
    "    # Train policy with current gamma\n",
    "    learned_policy_for_gamma = policy_iteration(env, gamma=gamma)\n",
    "    gamma_policies.append(learned_policy_for_gamma)\n",
    "    \n",
    "    # Test policy performance\n",
    "    num_games = 1000\n",
    "    max_steps = 500\n",
    "    game_success = 0\n",
    "    \n",
    "    for _ in range(num_games):\n",
    "        observation, _ = env.reset()\n",
    "    \n",
    "        for _ in range(max_steps):\n",
    "            action = int(learned_policy_for_gamma[observation])\n",
    "            observation, reward, done, _, _ = env.step(action)\n",
    "    \n",
    "            if done:\n",
    "                if reward > 0:\n",
    "                    game_success += 1\n",
    "                break\n",
    "                \n",
    "    success_rate = game_success / num_games\n",
    "    gamma_success_rates.append(success_rate)\n",
    "    print(f\"Success rate: {success_rate:.3f}\")"
   ]
  },
  {
   "cell_type": "code",
   "execution_count": 12,
   "id": "a32eae0b-2530-42d0-b9f6-f5be50cd232d",
   "metadata": {},
   "outputs": [
    {
     "data": {
      "image/png": "[encoded data removed]",
      "text/plain": [
       "<Figure size 600x400 with 1 Axes>"
      ]
     },
     "metadata": {},
     "output_type": "display_data"
    }
   ],
   "source": [
    "plt.figure(figsize=(6, 4))\n",
    "\n",
    "bars = plt.bar(gamma_names, gamma_success_rates, \n",
    "               color=['#ff9999', '#66b3ff', '#99ff99', '#ffcc99'],\n",
    "               alpha=0.8, edgecolor='black', linewidth=1)\n",
    "\n",
    "for i, (bar, rate) in enumerate(zip(bars, gamma_success_rates)):\n",
    "    plt.text(bar.get_x() + bar.get_width()/2, bar.get_height() + 0.01, \n",
    "             f'{rate:.3f}', ha='center', va='bottom', fontweight='bold')\n",
    "\n",
    "plt.xlabel(\"Discount Factor (γ)\", fontsize=12, fontweight='bold')\n",
    "plt.ylabel(\"Success Rate\", fontsize=12, fontweight='bold')\n",
    "plt.title(\"Effect of Discount Factor on Policy Performance\\nin Stochastic FrozenLake Environment\", \n",
    "          fontsize=14, fontweight='bold', pad=20)\n",
    "plt.ylim(0, max(gamma_success_rates) * 1.2)\n",
    "plt.grid(True, alpha=0.3, axis='y')\n",
    "plt.xticks(rotation=45, ha='right')\n",
    "plt.tight_layout()\n",
    "\n",
    "plt.show()"
   ]
  },
  {
   "cell_type": "markdown",
   "id": "ec6395a4",
   "metadata": {},
   "source": [
    "##### Interpretation of Results\n",
    "\n",
    "The discount factor analysis reveals important insights about temporal decision-making in stochastic environments:\n",
    "\n",
    "**Expected Patterns**:\n",
    "- **Low γ (0.1)**: Short-sighted policies may perform poorly due to inadequate planning\n",
    "- **Medium γ (0.5-0.9)**: Balanced approach often yields good performance\n",
    "- **High γ (0.99)**: Far-sighted policies maximize long-term expected reward\n",
    "\n",
    "**Key Insights**:\n",
    "1. **Optimal γ balances** immediate and future rewards for the specific environment\n",
    "2. **Too low γ** leads to myopic behavior that ignores important future consequences  \n",
    "3. **Too high γ** may overemphasize distant rewards in finite-horizon problems\n",
    "4. **Environment-specific tuning** is crucial for optimal performance\n"
   ]
  },
  {
   "cell_type": "code",
   "execution_count": null,
   "id": "20719c18-29e4-4897-bd0e-793ec8e9060c",
   "metadata": {},
   "outputs": [],
   "source": []
  }
 ],
 "metadata": {
  "kernelspec": {
   "display_name": "Python 3 (ipykernel)",
   "language": "python",
   "name": "python3"
  },
  "language_info": {
   "codemirror_mode": {
    "name": "ipython",
    "version": 3
   },
   "file_extension": ".py",
   "mimetype": "text/x-python",
   "name": "python",
   "nbconvert_exporter": "python",
   "pygments_lexer": "ipython3",
   "version": "3.12.3"
  }
 },
 "nbformat": 4,
 "nbformat_minor": 5
}
